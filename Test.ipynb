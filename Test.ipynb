{
 "cells": [
  {
   "cell_type": "code",
   "execution_count": 1,
   "metadata": {},
   "outputs": [],
   "source": [
    "with open('texto.txt','r') as f:\n",
    "    texto = f.read()"
   ]
  },
  {
   "cell_type": "code",
   "execution_count": 24,
   "metadata": {},
   "outputs": [
    {
     "name": "stdout",
     "output_type": "stream",
     "text": [
      "{'lorem': 3, 'ipsum': 3, 'dolor': 3, 'sit': 3, 'amet': 3, 'consectetur': 3, 'adipisicing': 3, 'elit': 3, 'quia': 3, 'natus': 3}\n"
     ]
    },
    {
     "data": {
      "text/plain": [
       "30"
      ]
     },
     "execution_count": 24,
     "metadata": {},
     "output_type": "execute_result"
    }
   ],
   "source": [
    "def ContarFrecPalabras(texto):\n",
    "    frec_palabras = {}\n",
    "    palabra = \"\"\n",
    "    for letra in texto:\n",
    "        if letra.isalpha() and letra != \" \":\n",
    "            palabra += letra.lower()\n",
    "        else:\n",
    "            if palabra:\n",
    "                frec_palabras[palabra] = frec_palabras.get(palabra, 0) + 1\n",
    "                palabra = \"\"\n",
    "    \n",
    "    return frec_palabras\n",
    "\n",
    "frec_palabras = ContarFrecPalabras(texto)\n",
    "print(frec_palabras)\n",
    "total = sum(frec_palabras.values())\n",
    "total"
   ]
  },
  {
   "cell_type": "code",
   "execution_count": 3,
   "metadata": {},
   "outputs": [
    {
     "data": {
      "text/plain": [
       "{0: {'texto': 'Lorem ipsum dolor sit amet consectetur adipisicing elit. Quia, natus.\\nLorem ipsum dolor sit amet consect',\n",
       "  'inicio': 0,\n",
       "  'fin': 104},\n",
       " 1: {'texto': 'etur adipisicing elit. Quia, natus.\\nLorem ipsum dolor sit amet consectetur adipisicing elit. Quia, natus.',\n",
       "  'inicio': 104,\n",
       "  'fin': 209}}"
      ]
     },
     "execution_count": 3,
     "metadata": {},
     "output_type": "execute_result"
    }
   ],
   "source": [
    "def SeparacionTexto(texto, num_secciones):\n",
    "    secciones_texto = {}\n",
    "    \n",
    "    for i in range(num_secciones):\n",
    "        inicio = i * len(texto) // num_secciones\n",
    "        fin = (i + 1) * len(texto) // num_secciones\n",
    "        \n",
    "        secciones_texto[i] = {\n",
    "            'texto': texto[inicio:fin],\n",
    "            'inicio': inicio,\n",
    "            'fin': fin\n",
    "        }\n",
    "    \n",
    "    return secciones_texto\n",
    "\n",
    "SeparacionTexto(texto, 2)"
   ]
  },
  {
   "cell_type": "code",
   "execution_count": null,
   "metadata": {},
   "outputs": [],
   "source": []
  }
 ],
 "metadata": {
  "kernelspec": {
   "display_name": "Python 3",
   "language": "python",
   "name": "python3"
  },
  "language_info": {
   "codemirror_mode": {
    "name": "ipython",
    "version": 3
   },
   "file_extension": ".py",
   "mimetype": "text/x-python",
   "name": "python",
   "nbconvert_exporter": "python",
   "pygments_lexer": "ipython3",
   "version": "3.10.14"
  }
 },
 "nbformat": 4,
 "nbformat_minor": 2
}
